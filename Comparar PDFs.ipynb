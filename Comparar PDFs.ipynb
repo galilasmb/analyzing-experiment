{
 "cells": [
  {
   "cell_type": "code",
   "execution_count": 17,
   "metadata": {},
   "outputs": [
    {
     "name": "stdout",
     "output_type": "stream",
     "text": [
      "O arquivo results/execution-3/results.pdf tem uma diferença na página 1.\n",
      "O arquivo results/execution-7/results.pdf tem uma diferença na página 1.\n",
      "Saving results in diff_files.pdf\n"
     ]
    }
   ],
   "source": [
    "import fitz\n",
    "import difflib\n",
    "from fpdf import FPDF\n",
    "\n",
    "pdf = FPDF()\n",
    "\n",
    "# Add a page\n",
    "pdf.add_page()\n",
    "\n",
    "# set style and size of font\n",
    "# that you want in the pdf\n",
    "pdf.set_font(\"Arial\", size = 15)\n",
    "\n",
    "\n",
    "# Define os nomes dos arquivos PDF\n",
    "file_names = ['results/execution-1/results.pdf', 'results/execution-2/results.pdf', 'results/execution-3/results.pdf', 'results/execution-4/results.pdf', 'results/execution-5/results.pdf', 'results/execution-6/results.pdf', 'results/execution-7/results.pdf', 'results/execution-8/results.pdf', 'results/execution-9/results.pdf', 'results/execution-10/results.pdf']\n",
    "\n",
    "# Lê o primeiro arquivo como referência\n",
    "ref_doc = fitz.open(file_names[0])\n",
    "ref_page_count = ref_doc.page_count\n",
    "\n",
    "# Compara os outros arquivos com o primeiro\n",
    "for file_name in file_names[1:]:\n",
    "    other_doc = fitz.open(file_name)\n",
    "    other_page_count = other_doc.page_count\n",
    "    # Verifica o número de páginas\n",
    "    if ref_page_count != other_page_count:\n",
    "        print(f\"O arquivo {file_name} tem um número diferente de páginas.\")\n",
    "        continue\n",
    "    # Compara o conteúdo de cada página\n",
    "    for page_num in range(ref_page_count):\n",
    "        ref_page = ref_doc[page_num]\n",
    "        other_page = other_doc[page_num]\n",
    "        ref_text = ref_page.get_text(\"text\")\n",
    "        other_text = other_page.get_text(\"text\")\n",
    "        if ref_text != other_text:\n",
    "            text = f\"O arquivo {file_name} tem uma diferença na página {page_num + 1}.\"\n",
    "            print(text)\n",
    "            pdf.cell(200, 10, txt = text, ln = 1, align = 'C')\n",
    "\n",
    "            diff = difflib.ndiff(ref_text.splitlines(), other_text.splitlines())\n",
    "            # print('\\n'.join(list(diff)))\n",
    "\n",
    "            save_string = '\\n'.join(list(diff))\n",
    "            for st in save_string.split(\"\\n\"):\n",
    "                pdf.cell(200, 10, txt = st, ln = 1, align = 'C')\n",
    "    other_doc.close()\n",
    "  \n",
    "# save the pdf with name file_name\n",
    "pdf.output(\"diff_files.pdf\")\n",
    "print(\"Saving results in\", \"diff_files.pdf\")\n",
    "\n",
    "ref_doc.close()\n"
   ]
  }
 ],
 "metadata": {
  "kernelspec": {
   "display_name": "Python 3",
   "language": "python",
   "name": "python3"
  },
  "language_info": {
   "codemirror_mode": {
    "name": "ipython",
    "version": 3
   },
   "file_extension": ".py",
   "mimetype": "text/x-python",
   "name": "python",
   "nbconvert_exporter": "python",
   "pygments_lexer": "ipython3",
   "version": "3.8.10"
  }
 },
 "nbformat": 4,
 "nbformat_minor": 4
}
