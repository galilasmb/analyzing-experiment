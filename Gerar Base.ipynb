{
 "cells": [
  {
   "cell_type": "code",
   "execution_count": 1,
   "metadata": {},
   "outputs": [],
   "source": [
    "import pandas as pd\n",
    "import os\n",
    "import numpy as np\n",
    "import seaborn as sns\n",
    "import datetime\n",
    "import chardet\n",
    "import time\n",
    "from pandas.api.types import is_number\n",
    "from matplotlib import pyplot as plt"
   ]
  },
  {
   "cell_type": "code",
   "execution_count": 8,
   "metadata": {},
   "outputs": [
    {
     "name": "stdout",
     "output_type": "stream",
     "text": [
      "Terminou!\n"
     ]
    }
   ],
   "source": [
    "for i in listaIntersecao:\n",
    "    base = pf[~pf[\"cpf\"].isnull()]\n",
    "    base = base[base['cpf'] == i]\n",
    "\n",
    "    df = pd.DataFrame(base)\n",
    "\n",
    "    df.to_csv('registrosMeiaDose.csv', mode='a', index=False, header=False, encoding='latin-1')\n",
    "print(\"Terminou!\")"
   ]
  },
  {
   "cell_type": "code",
   "execution_count": 9,
   "metadata": {},
   "outputs": [],
   "source": [
    "def criarBase(baseDose, baseInfectados, idDose, idInfect, nome):\n",
    "\n",
    "    listaDose = []\n",
    "    for i in baseDose[idDose]:\n",
    "        listaDose.append(str(i))\n",
    "    print(\"Preparou lista de doses!\")\n",
    "\n",
    "    listaInfectados = []\n",
    "    for i in baseInfectados[idInfect]:\n",
    "        listaInfectados.append(str(i).replace(\".0\", \"\"))\n",
    "    print(\"Preparou lista de infectados!\")\n",
    "\n",
    "    listaIntersecao = []\n",
    "    for i in listaDose:\n",
    "        if i in listaInfectados:\n",
    "            listaIntersecao.append(float(i))\n",
    "    print(\"Preparou intersecao!\")\n",
    "\n",
    "    print(\"Iniciou a criação da base!\")\n",
    "\n",
    "    for i in listaIntersecao:\n",
    "        base = baseInfectados[~baseInfectados[idInfect].isnull()]\n",
    "        base = base[base[idInfect] == i]\n",
    "\n",
    "        df = pd.DataFrame(base)\n",
    "\n",
    "        df.to_csv(nome, mode='a', index=False, header=False, encoding='latin-1')\n",
    "\n",
    "    print(\"Terminou a criação da base!\")"
   ]
  },
  {
   "cell_type": "code",
   "execution_count": null,
   "metadata": {},
   "outputs": [],
   "source": [
    "baseInfectados = pd.read_csv('examePositivo.csv', sep=',', encoding='latin-1', on_bad_lines='skip', low_memory=False)"
   ]
  },
  {
   "cell_type": "code",
   "execution_count": null,
   "metadata": {},
   "outputs": [],
   "source": [
    "#Criar base de Dose Completa\n",
    "baseDose = pd.read_csv('cnsDoseCompleta.csv', sep='|', encoding='latin-1', on_bad_lines='skip', low_memory=False)\n",
    "\n",
    "criarBase(baseDose, baseInfectados, 'cns', 'cartao_sus', 'registrosDoseCompleta.csv')"
   ]
  },
  {
   "cell_type": "code",
   "execution_count": null,
   "metadata": {},
   "outputs": [],
   "source": [
    "#Criar base de Meia Dose\n",
    "baseDose = pd.read_csv('cpfMeiaDose.csv', sep='|', encoding='latin-1', on_bad_lines='skip', low_memory=False)\n",
    "\n",
    "criarBase(baseDose, baseInfectados, 'cpf', 'cpf', 'registrosMeiaDose.csv')"
   ]
  },
  {
   "cell_type": "code",
   "execution_count": null,
   "metadata": {},
   "outputs": [],
   "source": []
  }
 ],
 "metadata": {
  "kernelspec": {
   "display_name": "Python 3",
   "language": "python",
   "name": "python3"
  },
  "language_info": {
   "codemirror_mode": {
    "name": "ipython",
    "version": 3
   },
   "file_extension": ".py",
   "mimetype": "text/x-python",
   "name": "python",
   "nbconvert_exporter": "python",
   "pygments_lexer": "ipython3",
   "version": "3.8.10"
  }
 },
 "nbformat": 4,
 "nbformat_minor": 4
}
