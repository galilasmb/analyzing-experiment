{
 "cells": [
  {
   "cell_type": "code",
   "execution_count": 3,
   "metadata": {},
   "outputs": [
    {
     "name": "stdout",
     "output_type": "stream",
     "text": [
      "Reading analyses execution results...\n",
      "Generating results...\n",
      "Results in output/data/results.pdf\n"
     ]
    },
    {
     "data": {
      "text/plain": [
       "<__main__.ReportAnalysis at 0x7ff35b444100>"
      ]
     },
     "execution_count": 3,
     "metadata": {},
     "output_type": "execute_result"
    },
    {
     "data": {
      "image/png": "[encoded data removed]",
      "text/plain": [
       "<Figure size 576x432 with 2 Axes>"
      ]
     },
     "metadata": {
      "needs_background": "light"
     },
     "output_type": "display_data"
    }
   ],
   "source": [
    "import pandas as pd\n",
    "import os\n",
    "import seaborn as sns\n",
    "import datetime\n",
    "import chardet\n",
    "import time\n",
    "from pandas.api.types import is_number\n",
    "import matplotlib.pyplot as plt\n",
    "import numpy as np\n",
    "import itertools\n",
    "\n",
    "from matplotlib import pyplot as plt\n",
    "from fpdf import FPDF\n",
    "\n",
    "class ReportAnalysis:\n",
    "\n",
    "    path_ground_truth = ''\n",
    "    ground_truth_name = ''\n",
    "\n",
    "    def __init__(self, path_ground_truth, ground_truth_name):\n",
    "        self.path_ground_truth = path_ground_truth\n",
    "        self.ground_truth_name = ground_truth_name\n",
    "        self.generate_results()\n",
    "\n",
    "    @staticmethod\n",
    "    def generate_results():\n",
    "        FP = 0\n",
    "        TP = 0\n",
    "        FN = 0\n",
    "        TN = 0\n",
    "\n",
    "        print(\"Reading analyses execution results...\")\n",
    "        soot_results = pd.read_csv('../miningframework/output/data/soot-results.csv', sep=';', encoding='latin-1', on_bad_lines='skip', low_memory=False)\n",
    "\n",
    "        loi = pd.read_csv(path_ground_truth, sep=';', encoding='latin-1', on_bad_lines='skip', low_memory=False)\n",
    "\n",
    "        print(\"Generating results...\")\n",
    "\n",
    "        analysis = [\"Confluence Inter\", \"OA Inter\", \"left right PDG\", \"right left PDG\", \"left right DFP-Inter\", \"right left DFP-Inter\"]\n",
    "        \n",
    "        LOIGroundTruth = []\n",
    "        for LOI in loi[ground_truth_name]:\n",
    "            LOIGroundTruth.append(LOI)\n",
    "\n",
    "        index = 0\n",
    "        for (listAnalysis) in zip(soot_results[\"Confluence Inter\"], soot_results[\"OA Inter\"], soot_results[\"left right PDG\"], soot_results[\"right left PDG\"], soot_results[\"left right DFP-Inter\"], soot_results[\"right left DFP-Inter\"]):\n",
    "            analysesORResult = False\n",
    "            error = False\n",
    "            if (\"true\" in str(confluence).lower() or \"true\" in str(OA).lower() or \"true\" in str(lrPDG).lower() or \"true\" in str(rlPDG).lower() or \"true\" in str(lrDP).lower() or \"true\" in str(rlDF).lower()):\n",
    "                analysesORResult = True\n",
    "            elif (\"false\" in str(confluence).lower() or \"false\" in str(OA).lower() or \"false\" in str(lrPDG).lower() or \"false\" in str(rlPDG).lower() or \"false\" in str(lrDP).lower() or \"false\" in str(rlDF).lower()):\n",
    "                analysesORResult = False\n",
    "            else:\n",
    "                error = True\n",
    "\n",
    "            if (LOIGroundTruth[index] != \"-\" and not error):\n",
    "                if (LOIGroundTruth[index] == \"No\"):\n",
    "                    if (analysesORResult):\n",
    "                        FP = FP + 1\n",
    "                    else:\n",
    "                        TN = TN + 1\n",
    "\n",
    "                if (LOIGroundTruth[index] == \"Yes\"):\n",
    "                    if (analysesORResult):\n",
    "                        TP = TP + 1\n",
    "                    else:\n",
    "                        FN = FN + 1\n",
    "            index = index + 1\n",
    "\n",
    "        sensitivity = 0 if ((TP + FN) == 0) else (TP / (TP + FN))\n",
    "        precision = 0 if ((TP + FP) == 0) else (TP / (TP + FP))\n",
    "        f1_score = 0 if ((2*TP + FP + FN) == 0) else (2*TP / (2*TP + FP + FN))\n",
    "        accuracy = 0 if ((FP + TP + TN + FN) == 0) else ((TP + TN) / (FP + TP + TN + FN))\n",
    "\n",
    "        # variable pdf\n",
    "        pdf = FPDF()\n",
    "\n",
    "        # Add a page\n",
    "        pdf.add_page()\n",
    "\n",
    "        # set style and size of font\n",
    "        # that you want in the pdf\n",
    "        pdf.set_font(\"Arial\", size = 15)\n",
    "\n",
    "        # create a cell\n",
    "        pdf.cell(200, 10, txt = \"Results for execution\",\n",
    "                 ln = 1, align = 'C')\n",
    "\n",
    "        pdf.cell(200, 10, txt = (\"Precision: \"+str(round(precision, 4))),\n",
    "                 ln = 2, align = 'L')\n",
    "\n",
    "        pdf.cell(200, 10, txt = (\"Recall: \"+str(round(sensitivity, 4))),\n",
    "                 ln = 2, align = 'L')\n",
    "\n",
    "        pdf.cell(200, 10, txt = (\"F1 Score: \"+str(round(f1_score, 4))),\n",
    "                 ln = 2, align = 'L')\n",
    "\n",
    "        pdf.cell(200, 10, txt = (\"Accuracy: \"+str(round(accuracy, 4))),\n",
    "                 ln = 2, align = 'L')\n",
    "\n",
    "        cm = np.array([[TP,  FP], [FN, TN]])\n",
    "        normalize = False\n",
    "        target_names = ['Positive', 'Negative']\n",
    "        title = \"Confusion Matrix\"\n",
    "\n",
    "        cmap = plt.get_cmap('Blues')\n",
    "\n",
    "        plt.figure(figsize=(8, 6))\n",
    "        plt.imshow(cm, interpolation='nearest', cmap=cmap)\n",
    "        plt.title(title, fontsize=16)\n",
    "        plt.colorbar()\n",
    "\n",
    "        if target_names is not None:\n",
    "            tick_marks = np.arange(len(target_names))\n",
    "            plt.xticks(tick_marks, target_names, rotation=45, fontsize=16)\n",
    "            plt.yticks(tick_marks, target_names, fontsize=16)\n",
    "\n",
    "        if normalize:\n",
    "            cm = cm.astype('float') / cm.sum(axis=1)[:, np.newaxis]\n",
    "\n",
    "        thresh = cm.max() / 1.5 if normalize else cm.max() / 2\n",
    "        for i, j in itertools.product(range(cm.shape[0]), range(cm.shape[1])):\n",
    "            if normalize:\n",
    "                plt.text(j, i, \"{:0.4f}\".format(cm[i, j]),\n",
    "                         horizontalalignment=\"center\",\n",
    "                         color=\"white\" if cm[i, j] > thresh else \"black\", fontsize=23)\n",
    "            else:\n",
    "                plt.text(j, i, \"{:,}\".format(cm[i, j]),\n",
    "                         horizontalalignment=\"center\",\n",
    "                         color=\"white\" if cm[i, j] > thresh else \"black\", fontsize=23)\n",
    "        plt.tight_layout()\n",
    "\n",
    "        plt.savefig(\"confusion_matrix.jpg\")\n",
    "\n",
    "        pdf.image(\"confusion_matrix.jpg\", x = None, y = None, w = 160, h = 110, type = 'jpg', link = 'confusion_matrix.jpg')\n",
    "\n",
    "        # save the pdf with name .pdf\n",
    "        pdf.output(\"results.pdf\")\n",
    "        print(\"Results in output/data/results.pdf\")\n",
    "\n",
    "path_ground_truth = \"../miningframework/input/LOI.csv\"\n",
    "ground_truth_name = \"Locally Observable Interference\"\n",
    "\n",
    "ReportAnalysis(path_ground_truth, ground_truth_name)"
   ]
  },
  {
   "cell_type": "code",
   "execution_count": 26,
   "metadata": {},
   "outputs": [
    {
     "name": "stdout",
     "output_type": "stream",
     "text": [
      "Generating results...\n",
      "{'Confluence Inter': [True, True, True, True, True, True, True, True, True], 'OA Inter': ['timeout', 'timeout', 'timeout', 'timeout', 'timeout', 'timeout', 'timeout', 'timeout', 'timeout'], 'left right PDG': ['timeout', 'timeout', 'timeout', 'true', 'timeout', 'timeout', 'timeout', 'timeout', 'timeout'], 'right left PDG': ['timeout', 'timeout', 'timeout', 'false', 'timeout', 'timeout', 'timeout', 'timeout', 'timeout'], 'left right DFP-Inter': ['timeout', 'timeout', 'timeout', 'timeout', 'timeout', 'timeout', 'timeout', 'timeout', 'timeout'], 'right left DFP-Inter': ['timeout', 'timeout', 'timeout', 'timeout', 'timeout', 'timeout', 'timeout', 'timeout', 'timeout']}\n"
     ]
    }
   ],
   "source": [
    "soot_results = pd.read_csv('soot-results.csv', sep=';', encoding='latin-1', on_bad_lines='skip', low_memory=False)\n",
    "\n",
    "print(\"Generating results...\")\n",
    "\n",
    "analysis = [\"Confluence Inter\", \"OA Inter\", \"left right PDG\", \"right left PDG\", \"left right DFP-Inter\", \"right left DFP-Inter\"]\n",
    "\n",
    "result = {}\n",
    "\n",
    "for i in analysis:\n",
    "    l_aux = []\n",
    "    for l in soot_results[i]:\n",
    "        l_aux.append(l)\n",
    "    result[i] = l_aux\n",
    "\n",
    "        \n",
    "print(result)"
   ]
  },
  {
   "cell_type": "code",
   "execution_count": 124,
   "metadata": {
    "scrolled": true
   },
   "outputs": [
    {
     "name": "stdout",
     "output_type": "stream",
     "text": [
      "true\n",
      "time\n",
      "time\n",
      "Foi!\n",
      "true\n",
      "false\n",
      "false\n",
      "Foi!\n",
      "true\n",
      "error\n",
      "error\n",
      "Foi!\n"
     ]
    }
   ],
   "source": [
    "d = {'a':['true', 'true', 'true'], 'b':['time', 'false', 'error'], 'c':['time', 'false', 'error']}\n",
    "\n",
    "l = list(d.values())\n",
    "\n",
    "# 0 0\n",
    "# 1 0\n",
    "\n",
    "# 0 1\n",
    "# 1 1\n",
    "\n",
    "# 0 2\n",
    "# 1 2\n",
    "\n",
    "for i in range(len(l[0])):    \n",
    "    for j in range(len(l)):\n",
    "        print(l[j][i])\n",
    "    print(\"Foi!\")\n",
    "    "
   ]
  },
  {
   "cell_type": "code",
   "execution_count": 121,
   "metadata": {},
   "outputs": [
    {
     "name": "stdout",
     "output_type": "stream",
     "text": [
      "Requirement already satisfied: fpdf in /home/galileu/.local/lib/python3.8/site-packages (1.7.2)\r\n"
     ]
    }
   ],
   "source": [
    "import pandas as pd\n",
    "import os\n",
    "import numpy as np\n",
    "import seaborn as sns\n",
    "import datetime\n",
    "import chardet\n",
    "import time\n",
    "from pandas.api.types import is_number\n",
    "from matplotlib import pyplot as plt\n",
    "!pip install fpdf\n",
    "from fpdf import FPDF"
   ]
  },
  {
   "cell_type": "code",
   "execution_count": 11,
   "metadata": {},
   "outputs": [],
   "source": [
    "results = pd.read_csv('soot-results.csv', sep=';', encoding='latin-1', on_bad_lines='skip', low_memory=False)"
   ]
  },
  {
   "cell_type": "code",
   "execution_count": 3,
   "metadata": {},
   "outputs": [],
   "source": [
    "loi = pd.read_csv('LOI.csv', sep=';', encoding='latin-1', on_bad_lines='skip', low_memory=False)"
   ]
  },
  {
   "cell_type": "code",
   "execution_count": 4,
   "metadata": {},
   "outputs": [
    {
     "name": "stdout",
     "output_type": "stream",
     "text": [
      "['Yes', 'Yes', 'No', 'Yes', 'Yes', 'No', 'Yes', 'No', 'No', 'Yes', 'No', 'Yes', 'Yes', 'No', 'Yes', 'Yes', 'No', 'Yes', 'Yes', 'Yes', 'Yes', 'No', 'No', 'Yes', 'Yes', '-', 'No', 'No', 'No', 'No', 'No', 'Yes', 'Yes', 'No', 'No', 'No', 'No', 'Yes', 'No', 'No', 'No', '-', 'No', 'No', 'Yes', 'No', 'No', 'No', 'No', 'Yes', 'Yes', 'Yes', 'Yes', 'No', 'No', 'No', 'No', '-', '-', 'No', '-', '-', '-', '-', '-', 'Yes', 'No', 'No', 'No', 'No', 'Yes', 'No', 'No', 'No', 'Yes', 'No', 'Yes', 'No', 'No', 'No', 'No', 'No', 'No', 'Yes', 'No', 'No', 'Yes', 'No', 'No', 'No', 'No', 'No', 'Yes', 'Yes', 'Yes', '-', 'Yes', 'Yes', 'Yes', 'No', 'No', 'No', 'No', 'No', 'No', 'No', 'Yes', 'No', 'No', 'No', 'No', 'No', '-', '-', 'No', 'No']\n"
     ]
    }
   ],
   "source": [
    "LOIGroundTruth = []\n",
    "for LOI in loi[\"Locally Observable Interference\"]:\n",
    "    LOIGroundTruth.append(LOI)\n",
    "print(LOIGroundTruth)"
   ]
  },
  {
   "cell_type": "code",
   "execution_count": 12,
   "metadata": {},
   "outputs": [],
   "source": [
    "LOIGroundTruth = []\n",
    "for LOI in loi[\"Locally Observable Interference\"]:\n",
    "    LOIGroundTruth.append(LOI)\n",
    "    \n",
    "index = 0\n",
    "result = {\"True Negative\":0, \"False Negative\":0, \"True Positive\":0, \"False Positive\":0}\n",
    "for (confluence, OA, lrPDG, rlPDG, lrDP, rlDF) in zip(results[\"Confluence Inter\"], results[\"OA Inter\"], results[\"left right PDG\"], results[\"right left PDG\"], results[\"left right DFP-Inter\"], results[\"right left DFP-Inter\"]):\n",
    "    rAux = \"\"\n",
    "    analysesORResult = False\n",
    "    error = False\n",
    "    if (\"true\" in str(confluence).lower() or \"true\" in str(OA).lower() or \"true\" in str(lrPDG).lower() or \"true\" in str(rlPDG).lower() or \"true\" in str(lrDP).lower() or \"true\" in str(rlDF).lower()):\n",
    "        analysesORResult = True\n",
    "    elif (\"false\" in str(confluence).lower() or \"false\" in str(OA).lower() or \"false\" in str(lrPDG).lower() or \"false\" in str(rlPDG).lower() or \"false\" in str(lrDP).lower() or \"false\" in str(rlDF).lower()):\n",
    "        analysesORResult = False\n",
    "    else:\n",
    "        error = True\n",
    "    \n",
    "    if (LOIGroundTruth[index] == \"No\"):\n",
    "        if (analysesORResult):\n",
    "            rAux = \"False Positive\"\n",
    "        else:\n",
    "            rAux = \"True Negative\"\n",
    "    if (LOIGroundTruth[index] == \"Yes\"):\n",
    "        if (analysesORResult):\n",
    "            rAux = \"True Positive\"\n",
    "        else:\n",
    "            rAux = \"False Negative\"\n",
    "\n",
    "    if (LOIGroundTruth[index] != \"-\" and not error):\n",
    "        if (result.get(rAux)!=None):\n",
    "            result[rAux] = result.get(rAux) + 1\n",
    "        else:\n",
    "            result[rAux] = 1\n",
    "    index = index+1\n"
   ]
  },
  {
   "cell_type": "code",
   "execution_count": 13,
   "metadata": {},
   "outputs": [
    {
     "name": "stdout",
     "output_type": "stream",
     "text": [
      "{'True Negative': 0, 'False Negative': 0, 'True Positive': 1, 'False Positive': 0}\n"
     ]
    }
   ],
   "source": [
    "print(result)"
   ]
  },
  {
   "cell_type": "code",
   "execution_count": 14,
   "metadata": {},
   "outputs": [
    {
     "name": "stdout",
     "output_type": "stream",
     "text": [
      "Precision: 1.0\n",
      "Recall: 1.0\n",
      "F1 Score: 1.0\n",
      "Accuracy: 1.0\n"
     ]
    }
   ],
   "source": [
    "# Sensitivity: TPR = TP / (TP + FN)\n",
    "# Precision: PPV = TP / (TP + FP)\n",
    "# F1 Score: F1 = 2TP / (2TP + FP + FN)\n",
    "# Accuracy: ACC = (TP + TN) / (P + N)\n",
    "\n",
    "FP = result[\"False Positive\"]\n",
    "TP = result[\"True Positive\"]\n",
    "FN = result[\"False Negative\"]\n",
    "TN = result[\"True Negative\"]\n",
    "\n",
    "sensitivity = (TP / (TP + FN))\n",
    "precision = (TP / (TP + FP))\n",
    "f1_score = (2*TP / (2*TP + FP + FN))\n",
    "accuracy = ((TP + TN) / (FP + TP + TN + FN))\n",
    "\n",
    "print(\"Precision:\", round(precision, 4))\n",
    "print(\"Recall:\", round(sensitivity, 4))\n",
    "print(\"F1 Score:\", round(f1_score, 4))\n",
    "print(\"Accuracy:\", round(accuracy, 4))\n"
   ]
  },
  {
   "cell_type": "code",
   "execution_count": 15,
   "metadata": {},
   "outputs": [],
   "source": [
    "import numpy as np\n",
    "\n",
    "def plot_confusion_matrix(cm,\n",
    "                          target_names,\n",
    "                          title='Confusion matrix',\n",
    "                          cmap=None,\n",
    "                          normalize=True):\n",
    "    import matplotlib.pyplot as plt\n",
    "    import numpy as np\n",
    "    import itertools\n",
    "\n",
    "    accuracy = np.trace(cm) / float(np.sum(cm))\n",
    "    misclass = 1 - accuracy\n",
    "\n",
    "    if cmap is None:\n",
    "        cmap = plt.get_cmap('Blues')\n",
    "\n",
    "    plt.figure(figsize=(8, 6))\n",
    "    plt.imshow(cm, interpolation='nearest', cmap=cmap)\n",
    "    plt.title(title, fontsize=16)\n",
    "    plt.colorbar()\n",
    "\n",
    "    if target_names is not None:\n",
    "        tick_marks = np.arange(len(target_names))\n",
    "        plt.xticks(tick_marks, target_names, rotation=45, fontsize=16)\n",
    "        plt.yticks(tick_marks, target_names, fontsize=16)\n",
    "\n",
    "    if normalize:\n",
    "        cm = cm.astype('float') / cm.sum(axis=1)[:, np.newaxis]\n",
    "\n",
    "\n",
    "    thresh = cm.max() / 1.5 if normalize else cm.max() / 2\n",
    "    for i, j in itertools.product(range(cm.shape[0]), range(cm.shape[1])):\n",
    "        if normalize:\n",
    "            plt.text(j, i, \"{:0.4f}\".format(cm[i, j]),\n",
    "                     horizontalalignment=\"center\",\n",
    "                     color=\"white\" if cm[i, j] > thresh else \"black\", fontsize=23)\n",
    "        else:\n",
    "            plt.text(j, i, \"{:,}\".format(cm[i, j]),\n",
    "                     horizontalalignment=\"center\",\n",
    "                     color=\"white\" if cm[i, j] > thresh else \"black\", fontsize=23)\n",
    "\n",
    "\n",
    "    plt.tight_layout()\n",
    "    #plt.ylabel('True label')\n",
    "    #plt.xlabel('Predicted label\\naccuracy={:0.4f}; misclass={:0.4f}'.format(accuracy, misclass))\n",
    "    plt.savefig(\"confusion_matrix.jpg\")\n",
    "    plt.show()"
   ]
  },
  {
   "cell_type": "code",
   "execution_count": 16,
   "metadata": {},
   "outputs": [
    {
     "data": {
      "image/png": "[encoded data removed]",
      "text/plain": [
       "<Figure size 576x432 with 2 Axes>"
      ]
     },
     "metadata": {
      "needs_background": "light"
     },
     "output_type": "display_data"
    }
   ],
   "source": [
    "plot_confusion_matrix(cm           = np.array([[TP,  FP],\n",
    "                                              [FN, TN]]), \n",
    "                      normalize    = False,\n",
    "                      target_names = ['Positive', 'Negative'],\n",
    "                      title        = \"Confusion Matrix\")"
   ]
  },
  {
   "cell_type": "code",
   "execution_count": null,
   "metadata": {},
   "outputs": [],
   "source": [
    "from fpdf import FPDF\n",
    " \n",
    "# variable pdf\n",
    "pdf = FPDF()\n",
    " \n",
    "# Add a page\n",
    "pdf.add_page()\n",
    " \n",
    "# set style and size of font\n",
    "# that you want in the pdf\n",
    "pdf.set_font(\"Arial\", size = 15)\n",
    " \n",
    "# create a cell\n",
    "\n",
    "pdf.cell(200, 10, txt = \"Results for execution\",\n",
    "         ln = 1, align = 'C')\n",
    "\n",
    "pdf.cell(200, 10, txt = (\"Precision: \"+str(round(precision, 4))),\n",
    "         ln = 2, align = 'L')\n",
    "\n",
    "pdf.cell(200, 10, txt = (\"Recall: \"+str(round(sensitivity, 4))),\n",
    "         ln = 2, align = 'L')\n",
    "\n",
    "pdf.cell(200, 10, txt = (\"F1 Score: \"+str(round(f1_score, 4))),\n",
    "         ln = 2, align = 'L')\n",
    "\n",
    "pdf.cell(200, 10, txt = (\"Accuracy: \"+str(round(accuracy, 4))),\n",
    "         ln = 2, align = 'L')\n",
    "\n",
    "pdf.image(\"confusion_matrix.jpg\", x = None, y = None, w = 160, h = 110, type = 'jpg', link = 'confusion_matrix.jpg')\n",
    "\n",
    "# save the pdf with name .pdf\n",
    "pdf.output(\"results.pdf\")"
   ]
  },
  {
   "cell_type": "code",
   "execution_count": null,
   "metadata": {},
   "outputs": [],
   "source": []
  }
 ],
 "metadata": {
  "kernelspec": {
   "display_name": "Python 3",
   "language": "python",
   "name": "python3"
  },
  "language_info": {
   "codemirror_mode": {
    "name": "ipython",
    "version": 3
   },
   "file_extension": ".py",
   "mimetype": "text/x-python",
   "name": "python",
   "nbconvert_exporter": "python",
   "pygments_lexer": "ipython3",
   "version": "3.8.10"
  }
 },
 "nbformat": 4,
 "nbformat_minor": 4
}
