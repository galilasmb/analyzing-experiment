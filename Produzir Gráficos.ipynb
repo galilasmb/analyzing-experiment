{
 "cells": [
  {
   "cell_type": "code",
   "execution_count": 1,
   "metadata": {},
   "outputs": [],
   "source": [
    "import pandas as pd\n",
    "import os\n",
    "import numpy as np\n",
    "import seaborn as sns\n",
    "import datetime\n",
    "import chardet\n",
    "import time\n",
    "from pandas.api.types import is_number\n",
    "from matplotlib import pyplot as plt\n",
    "import dask.dataframe as dd\n",
    "import datetime\n",
    "import numpy as np\n",
    "import statistics\n",
    "import matplotlib.pyplot as plt"
   ]
  },
  {
   "cell_type": "code",
   "execution_count": 2,
   "metadata": {},
   "outputs": [],
   "source": [
    "def calcular():\n",
    "    # Mediana\n",
    "    mediana = statistics.median(results)\n",
    "    print(\"Mediana: \", mediana)\n",
    "\n",
    "    # Média\n",
    "    media = statistics.mean(results)\n",
    "    print(\"Média: \", media)\n",
    "\n",
    "    # Desvio padrão\n",
    "    desvio_padrao = statistics.stdev(results)\n",
    "    print(\"Desvio padrão: \", desvio_padrao)"
   ]
  },
  {
   "cell_type": "code",
   "execution_count": 140,
   "metadata": {},
   "outputs": [
    {
     "data": {
      "image/png": "[encoded data removed]",
      "text/plain": [
       "<Figure size 576x216 with 1 Axes>"
      ]
     },
     "metadata": {
      "needs_background": "light"
     },
     "output_type": "display_data"
    },
    {
     "name": "stdout",
     "output_type": "stream",
     "text": [
      "Mediana: 9.55\n",
      "Média: 4571.34\n",
      "Desvio padrão: 33832.95\n"
     ]
    }
   ],
   "source": [
    "fig, ax = plt.subplots(figsize=(8, 3))\n",
    "\n",
    "data_x = [results]\n",
    "\n",
    "# Create a list of colors for the boxplots based on the number of features you have\n",
    "boxplots_colors = ['yellowgreen']\n",
    "\n",
    "# Boxplot data\n",
    "bp = ax.boxplot(data_x, patch_artist = True, vert = False)\n",
    "\n",
    "# Change to the desired color and add transparency\n",
    "for patch, color in zip(bp['boxes'], boxplots_colors):\n",
    "    patch.set_facecolor(color)\n",
    "    patch.set_alpha(0.4)\n",
    "\n",
    "# Create a list of colors for the violin plots based on the number of features you have\n",
    "violin_colors = ['thistle']\n",
    "\n",
    "# Violinplot data\n",
    "vp = ax.violinplot(data_x, points=500, \n",
    "               showmeans=False, showextrema=False, showmedians=False, vert=False)\n",
    "\n",
    "for idx, b in enumerate(vp['bodies']):\n",
    "    # Get the center of the plot\n",
    "    m = np.mean(b.get_paths()[0].vertices[:, 0])\n",
    "    # Modify it so we only see the upper half of the violin plot\n",
    "    b.get_paths()[0].vertices[:, 1] = np.clip(b.get_paths()[0].vertices[:, 1], idx+1, idx+2)\n",
    "    # Change to the desired color\n",
    "    b.set_color(violin_colors[idx])\n",
    "\n",
    "# Create a list of colors for the scatter plots based on the number of features you have\n",
    "scatter_colors = ['tomato', 'darksalmon']\n",
    "\n",
    "# Scatterplot data\n",
    "for idx, features in enumerate(data_x):\n",
    "    # Add jitter effect so the features do not overlap on the y-axis\n",
    "    y = np.full(len(features), idx + .8)\n",
    "    idxs = np.arange(len(y))\n",
    "    out = y.astype(float)\n",
    "    out.flat[idxs] += np.random.uniform(low=-.05, high=.05, size=len(idxs))\n",
    "    y = out\n",
    "    plt.scatter(features, y, s=.3, c=scatter_colors[idx])\n",
    "\n",
    "plt.yticks(np.arange(1,3), ['Means of the scenarios'])  # Set text labels.\n",
    "plt.xlabel('Values')\n",
    "plt.title(\"Results by scenarios\")\n",
    "plt.show()\n",
    "calcular()"
   ]
  },
  {
   "cell_type": "code",
   "execution_count": 131,
   "metadata": {},
   "outputs": [
    {
     "data": {
      "image/png": "[encoded data removed]",
      "text/plain": [
       "<Figure size 576x216 with 1 Axes>"
      ]
     },
     "metadata": {
      "needs_background": "light"
     },
     "output_type": "display_data"
    },
    {
     "name": "stdout",
     "output_type": "stream",
     "text": [
      "Mediana: 30.64\n",
      "Média: 4571.34\n",
      "Desvio padrão: 17004.04\n"
     ]
    }
   ],
   "source": [
    "fig, ax = plt.subplots(figsize=(8, 3))\n",
    "\n",
    "data_x = [results]\n",
    "\n",
    "# Create a list of colors for the boxplots based on the number of features you have\n",
    "boxplots_colors = ['yellowgreen']\n",
    "\n",
    "# Boxplot data\n",
    "bp = ax.boxplot(data_x, patch_artist = True, vert = False)\n",
    "\n",
    "# Change to the desired color and add transparency\n",
    "for patch, color in zip(bp['boxes'], boxplots_colors):\n",
    "    patch.set_facecolor(color)\n",
    "    patch.set_alpha(0.4)\n",
    "\n",
    "# Create a list of colors for the violin plots based on the number of features you have\n",
    "violin_colors = ['thistle']\n",
    "\n",
    "# Violinplot data\n",
    "vp = ax.violinplot(data_x, points=500, \n",
    "               showmeans=False, showextrema=False, showmedians=False, vert=False)\n",
    "\n",
    "for idx, b in enumerate(vp['bodies']):\n",
    "    # Get the center of the plot\n",
    "    m = np.mean(b.get_paths()[0].vertices[:, 0])\n",
    "    # Modify it so we only see the upper half of the violin plot\n",
    "    b.get_paths()[0].vertices[:, 1] = np.clip(b.get_paths()[0].vertices[:, 1], idx+1, idx+2)\n",
    "    # Change to the desired color\n",
    "    b.set_color(violin_colors[idx])\n",
    "\n",
    "# Create a list of colors for the scatter plots based on the number of features you have\n",
    "scatter_colors = ['tomato', 'darksalmon']\n",
    "\n",
    "# Scatterplot data\n",
    "for idx, features in enumerate(data_x):\n",
    "    # Add jitter effect so the features do not overlap on the y-axis\n",
    "    y = np.full(len(features), idx + .8)\n",
    "    idxs = np.arange(len(y))\n",
    "    out = y.astype(float)\n",
    "    out.flat[idxs] += np.random.uniform(low=-.05, high=.05, size=len(idxs))\n",
    "    y = out\n",
    "    plt.scatter(features, y, s=.3, c=scatter_colors[idx])\n",
    "\n",
    "plt.yticks(np.arange(1,3), ['Means of the executions'])  # Set text labels.\n",
    "plt.xlabel('Values')\n",
    "plt.title(\"Results by execution\")\n",
    "plt.show()\n",
    "calcular()"
   ]
  },
  {
   "cell_type": "code",
   "execution_count": 23,
   "metadata": {},
   "outputs": [
    {
     "name": "stdout",
     "output_type": "stream",
     "text": [
      "resultTime-1.csv\n",
      "resultTime-2.csv\n",
      "resultTime-3.csv\n",
      "resultTime-4.csv\n",
      "resultTime-5.csv\n",
      "resultTime-6.csv\n",
      "resultTime-7.csv\n",
      "resultTime-8.csv\n",
      "resultTime-9.csv\n",
      "resultTime-10.csv\n"
     ]
    }
   ],
   "source": [
    "#Carregando os dez arquivos\n",
    "\n",
    "\n",
    "arquivos_csv = [str('resultTime-'+str(i+1)+'.csv') for i in range(10)]\n",
    "\n",
    "dataframes = []\n",
    "\n",
    "for arquivo in arquivos_csv:\n",
    "    print(arquivo)\n",
    "    df = pd.read_csv(arquivo, sep=';', encoding='latin-1', on_bad_lines='skip', low_memory=False)\n",
    "    dataframes.append(df)"
   ]
  },
  {
   "cell_type": "code",
   "execution_count": 139,
   "metadata": {},
   "outputs": [
    {
     "name": "stdout",
     "output_type": "stream",
     "text": [
      "101\n",
      "Acabou a linha 1 média: 9.799285714285713\n",
      "Acabou a linha 2 média: 9.615714285714287\n",
      "Acabou a linha 3 média: 495.72785714285726\n",
      "Acabou a linha 4 média: 10.481428571428575\n",
      "Acabou a linha 5 média: 12.496428571428572\n",
      "Acabou a linha 6 média: 7.727142857142856\n",
      "Acabou a linha 7 média: 7.010714285714285\n",
      "Acabou a linha 8 média: 6.98857142857143\n",
      "Acabou a linha 9 média: 6.714999999999998\n",
      "Acabou a linha 10 média: 7.114285714285716\n",
      "Acabou a linha 11 média: 7.489285714285714\n",
      "Acabou a linha 12 média: 7.700714285714288\n",
      "Acabou a linha 13 média: 13.691428571428574\n",
      "Acabou a linha 14 média: 8.566428571428572\n",
      "Acabou a linha 15 média: 11.098571428571429\n",
      "Acabou a linha 16 média: 8.559999999999999\n",
      "Acabou a linha 17 média: 8.874999999999998\n",
      "Acabou a linha 18 média: 8.593571428571432\n",
      "Acabou a linha 19 média: 8.372857142857141\n",
      "Acabou a linha 20 média: 15.073571428571432\n",
      "Acabou a linha 21 média: 18.314999999999998\n",
      "Acabou a linha 22 média: 14.740714285714287\n",
      "Acabou a linha 23 média: 7.985\n",
      "Acabou a linha 24 média: 8.207857142857144\n",
      "Acabou a linha 25 média: 8.867857142857142\n",
      "Acabou a linha 26 média: 7.778571428571428\n",
      "Acabou a linha 27 média: 7.702142857142858\n",
      "Acabou a linha 28 média: 7.824999999999998\n",
      "Acabou a linha 29 média: 8.589285714285717\n",
      "Acabou a linha 30 média: 7.323571428571428\n",
      "Acabou a linha 31 média: 174.78\n",
      "Acabou a linha 32 média: 30.172857142857143\n",
      "Acabou a linha 33 média: 8.412857142857145\n",
      "Acabou a linha 34 média: 2012.595714285714\n",
      "Acabou a linha 35 média: 8.102142857142857\n",
      "Acabou a linha 36 média: 10.768571428571425\n",
      "Acabou a linha 37 média: 181.37500000000003\n",
      "Acabou a linha 38 média: 169.6721428571429\n",
      "Acabou a linha 39 média: 20.987142857142857\n",
      "Acabou a linha 40 média: 8.020714285714286\n",
      "Acabou a linha 41 média: 6.990714285714286\n",
      "Acabou a linha 42 média: 9.217857142857143\n",
      "Acabou a linha 43 média: 7.698571428571432\n",
      "Acabou a linha 44 média: 14.16857142857143\n",
      "Acabou a linha 45 média: 9.549285714285714\n",
      "Acabou a linha 46 média: 13.968571428571432\n",
      "Acabou a linha 47 média: 9.47357142857143\n",
      "Acabou a linha 48 média: 10.227142857142857\n",
      "Acabou a linha 49 média: 11.249999999999998\n",
      "Acabou a linha 50 média: 8.85\n",
      "Acabou a linha 51 média: 9.00357142857143\n",
      "Acabou a linha 52 média: 8.760714285714284\n",
      "Acabou a linha 53 média: 8.940000000000001\n",
      "Acabou a linha 54 média: 9.03785714285714\n",
      "Acabou a linha 55 média: 8.125\n",
      "Acabou a linha 56 média: 9.644999999999998\n",
      "Acabou a linha 57 média: 6.884285714285715\n",
      "Acabou a linha 58 média: 7.623571428571429\n",
      "Acabou a linha 59 média: 7.579285714285716\n",
      "Acabou a linha 60 média: 7.365000000000002\n",
      "Acabou a linha 61 média: 6.848571428571427\n",
      "Acabou a linha 62 média: 6.661428571428574\n",
      "Acabou a linha 63 média: 6.569285714285715\n",
      "Acabou a linha 64 média: 6.99\n",
      "Acabou a linha 65 média: 31.415\n",
      "Acabou a linha 66 média: 75.93857142857142\n",
      "Acabou a linha 67 média: 18.445\n",
      "Acabou a linha 68 média: 1499.117857142857\n",
      "Acabou a linha 69 média: 168.7778571428571\n",
      "Acabou a linha 70 média: 40.38714285714287\n",
      "Acabou a linha 71 média: 39.582857142857144\n",
      "Acabou a linha 72 média: 25.920000000000005\n",
      "Acabou a linha 73 média: 68.99857142857141\n",
      "Acabou a linha 74 média: 39.425\n",
      "Acabou a linha 75 média: 38.18214285714286\n",
      "Acabou a linha 76 média: 40.82214285714287\n",
      "Acabou a linha 77 média: 48.62928571428572\n",
      "Acabou a linha 78 média: 48.04285714285714\n",
      "Acabou a linha 79 média: 87211.62857142858\n",
      "Acabou a linha 80 média: 327567.23785714287\n",
      "Acabou a linha 81 média: 40799.77071428572\n",
      "Acabou a linha 82 média: 33.880714285714284\n",
      "Acabou a linha 83 média: 8.872142857142856\n",
      "Acabou a linha 84 média: 34.24071428571428\n",
      "Acabou a linha 85 média: 38.460714285714296\n",
      "Acabou a linha 86 média: 20.200714285714287\n",
      "Acabou a linha 87 média: 38.65571428571429\n",
      "Acabou a linha 88 média: 41.74\n",
      "Acabou a linha 89 média: 7.001428571428569\n",
      "Acabou a linha 90 média: 17.974999999999998\n",
      "Acabou a linha 91 média: 7.748571428571429\n",
      "Acabou a linha 92 média: 11.484285714285715\n",
      "Acabou a linha 93 média: 6.012142857142858\n",
      "Acabou a linha 94 média: 5.31\n",
      "Acabou a linha 95 média: 8.900714285714285\n",
      "Acabou a linha 96 média: 11.295714285714283\n",
      "Acabou a linha 97 média: 12.179999999999996\n",
      "Acabou a linha 98 média: 12.176428571428572\n",
      "Acabou a linha 99 média: 7.578571428571428\n",
      "Acabou a linha 100 média: 8.649285714285716\n",
      "Acabou a linha 101 média: 5.765\n",
      "[9.799285714285713, 9.615714285714287, 495.72785714285726, 10.481428571428575, 12.496428571428572, 7.727142857142856, 7.010714285714285, 6.98857142857143, 6.714999999999998, 7.114285714285716, 7.489285714285714, 7.700714285714288, 13.691428571428574, 8.566428571428572, 11.098571428571429, 8.559999999999999, 8.874999999999998, 8.593571428571432, 8.372857142857141, 15.073571428571432, 18.314999999999998, 14.740714285714287, 7.985, 8.207857142857144, 8.867857142857142, 7.778571428571428, 7.702142857142858, 7.824999999999998, 8.589285714285717, 7.323571428571428, 174.78, 30.172857142857143, 8.412857142857145, 2012.595714285714, 8.102142857142857, 10.768571428571425, 181.37500000000003, 169.6721428571429, 20.987142857142857, 8.020714285714286, 6.990714285714286, 9.217857142857143, 7.698571428571432, 14.16857142857143, 9.549285714285714, 13.968571428571432, 9.47357142857143, 10.227142857142857, 11.249999999999998, 8.85, 9.00357142857143, 8.760714285714284, 8.940000000000001, 9.03785714285714, 8.125, 9.644999999999998, 6.884285714285715, 7.623571428571429, 7.579285714285716, 7.365000000000002, 6.848571428571427, 6.661428571428574, 6.569285714285715, 6.99, 31.415, 75.93857142857142, 18.445, 1499.117857142857, 168.7778571428571, 40.38714285714287, 39.582857142857144, 25.920000000000005, 68.99857142857141, 39.425, 38.18214285714286, 40.82214285714287, 48.62928571428572, 48.04285714285714, 87211.62857142858, 327567.23785714287, 40799.77071428572, 33.880714285714284, 8.872142857142856, 34.24071428571428, 38.460714285714296, 20.200714285714287, 38.65571428571429, 41.74, 7.001428571428569, 17.974999999999998, 7.748571428571429, 11.484285714285715, 6.012142857142858, 5.31, 8.900714285714285, 11.295714285714283, 12.179999999999996, 12.176428571428572, 7.578571428571428, 8.649285714285716, 5.765]\n"
     ]
    }
   ],
   "source": [
    "#Retorna a soma de cada linha dos 10 arquivos\n",
    "media_linha = []\n",
    "num_linhas = dataframes[0].shape[0]\n",
    "print(num_linhas)\n",
    "for j in range(num_linhas):\n",
    "    soma = 0\n",
    "    for i in range(10):\n",
    "        # print(dataframes[i].iloc[j].sum())\n",
    "        soma = soma + dataframes[i].iloc[j].sum()\n",
    "    media_linha.append(soma/14)\n",
    "    print(\"Acabou a linha\", j+1, \"média:\", soma/14)\n",
    "\n",
    "print(media_linha)\n",
    "results = media_linha"
   ]
  },
  {
   "cell_type": "code",
   "execution_count": 137,
   "metadata": {},
   "outputs": [
    {
     "name": "stdout",
     "output_type": "stream",
     "text": [
      "Terminou dataframe 0\n",
      "Terminou dataframe 1\n",
      "Terminou dataframe 2\n",
      "Terminou dataframe 3\n",
      "Terminou dataframe 4\n",
      "Terminou dataframe 5\n",
      "Terminou dataframe 6\n",
      "Terminou dataframe 7\n",
      "Terminou dataframe 8\n",
      "Terminou dataframe 9\n",
      "[31.630099009900984, 13.446336633663368, 21.983861386138614, 5.899405940594061, 31.574059405940595, 63650.10306930694, 30.91831683168317, 43.111584158415845, 30.017029702970294, 57.35138613861385, 31.098712871287145, 10.9109900990099, 30.353465346534655, 10.425049504950499]\n"
     ]
    }
   ],
   "source": [
    "total = {0:0, 1:0, 2:0, 3:0, 4:0, 5:0, 6:0, 7:0, 8:0, 9:0, 10:0, 11:0, 12:0, 13:0}\n",
    "num_linhas = dataframes[0].shape[0]\n",
    "\n",
    "for i in range(10):\n",
    "    dframe = dataframes[i]\n",
    "    cont = 0\n",
    "    for c in dframe.columns:\n",
    "        total[cont] = total[cont] + dframe[c].sum()\n",
    "        cont = cont + 1\n",
    "\n",
    "    print(\"Terminou dataframe\", i)\n",
    "results = []\n",
    "#calculando a média\n",
    "for i in total.values():\n",
    "    results.append(i/num_linhas)\n",
    "\n",
    "# results.pop(5)\n",
    "print(results)\n",
    "\n",
    "\n"
   ]
  },
  {
   "cell_type": "markdown",
   "metadata": {},
   "source": []
  }
 ],
 "metadata": {
  "kernelspec": {
   "display_name": "Python 3",
   "language": "python",
   "name": "python3"
  },
  "language_info": {
   "codemirror_mode": {
    "name": "ipython",
    "version": 3
   },
   "file_extension": ".py",
   "mimetype": "text/x-python",
   "name": "python",
   "nbconvert_exporter": "python",
   "pygments_lexer": "ipython3",
   "version": "3.8.10"
  }
 },
 "nbformat": 4,
 "nbformat_minor": 4
}
